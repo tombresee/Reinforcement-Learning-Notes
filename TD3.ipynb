{
 "cells": [
  {
   "cell_type": "code",
   "execution_count": 8,
   "id": "0e65304f",
   "metadata": {},
   "outputs": [],
   "source": [
    "\n",
    "ś = 100\n"
   ]
  },
  {
   "cell_type": "code",
   "execution_count": 9,
   "id": "db099d7a",
   "metadata": {},
   "outputs": [
    {
     "data": {
      "text/plain": [
       "100"
      ]
     },
     "execution_count": 9,
     "metadata": {},
     "output_type": "execute_result"
    }
   ],
   "source": [
    "\n",
    "ś\n"
   ]
  },
  {
   "cell_type": "code",
   "execution_count": 10,
   "id": "8e2a3c23",
   "metadata": {},
   "outputs": [],
   "source": [
    "\n",
    "𝛾  = 0.99  # discount\n"
   ]
  },
  {
   "cell_type": "code",
   "execution_count": 11,
   "id": "6a6ae248",
   "metadata": {},
   "outputs": [
    {
     "data": {
      "text/plain": [
       "0.99"
      ]
     },
     "execution_count": 11,
     "metadata": {},
     "output_type": "execute_result"
    }
   ],
   "source": [
    "\n",
    "𝛾\n"
   ]
  },
  {
   "cell_type": "code",
   "execution_count": 12,
   "id": "4367f6b6",
   "metadata": {},
   "outputs": [
    {
     "data": {
      "text/plain": [
       "0.2"
      ]
     },
     "execution_count": 12,
     "metadata": {},
     "output_type": "execute_result"
    }
   ],
   "source": [
    "\n",
    "tau = .2\n",
    "\n",
    "τ = tau\n",
    "\n",
    "τ\n"
   ]
  },
  {
   "cell_type": "code",
   "execution_count": 13,
   "id": "18ed403d",
   "metadata": {},
   "outputs": [],
   "source": [
    "\n",
    "𝞢 = 100\n"
   ]
  },
  {
   "cell_type": "code",
   "execution_count": 14,
   "id": "e63b0643",
   "metadata": {},
   "outputs": [
    {
     "data": {
      "text/plain": [
       "100"
      ]
     },
     "execution_count": 14,
     "metadata": {},
     "output_type": "execute_result"
    }
   ],
   "source": [
    "\n",
    "𝞢\n"
   ]
  },
  {
   "cell_type": "code",
   "execution_count": 15,
   "id": "3af0cdd1",
   "metadata": {},
   "outputs": [],
   "source": [
    "\n",
    "Q_θ = 10\n"
   ]
  },
  {
   "cell_type": "code",
   "execution_count": 16,
   "id": "cd82f94e",
   "metadata": {},
   "outputs": [
    {
     "data": {
      "text/plain": [
       "10"
      ]
     },
     "execution_count": 16,
     "metadata": {},
     "output_type": "execute_result"
    }
   ],
   "source": [
    "\n",
    "Q_θ\n"
   ]
  },
  {
   "cell_type": "code",
   "execution_count": 17,
   "id": "58ecea81",
   "metadata": {},
   "outputs": [
    {
     "data": {
      "text/plain": [
       "1"
      ]
     },
     "execution_count": 17,
     "metadata": {},
     "output_type": "execute_result"
    }
   ],
   "source": [
    "\n",
    "Q_θ_1 = 1\n",
    "\n",
    "Q_θ_1\n"
   ]
  },
  {
   "cell_type": "code",
   "execution_count": 20,
   "id": "f0a5248c",
   "metadata": {},
   "outputs": [
    {
     "data": {
      "text/plain": [
       "100"
      ]
     },
     "execution_count": 20,
     "metadata": {},
     "output_type": "execute_result"
    }
   ],
   "source": [
    "\n",
    "Q_ϕ = 100\n",
    "\n",
    "Q_ϕ\n"
   ]
  },
  {
   "cell_type": "code",
   "execution_count": 22,
   "id": "5a219879",
   "metadata": {},
   "outputs": [
    {
     "name": "stdout",
     "output_type": "stream",
     "text": [
      "10\n"
     ]
    }
   ],
   "source": [
    "\n",
    "α_2001 = 10 \n",
    "\n",
    "print(α_2001)\n"
   ]
  },
  {
   "cell_type": "code",
   "execution_count": 25,
   "id": "c398f3c4",
   "metadata": {},
   "outputs": [
    {
     "name": "stdout",
     "output_type": "stream",
     "text": [
      "0\n",
      "1\n",
      "2\n",
      "3\n",
      "4\n",
      "5\n",
      "6\n",
      "7\n",
      "8\n",
      "9\n"
     ]
    }
   ],
   "source": [
    "\n",
    "for α in range(10):\n",
    "    print(α)\n"
   ]
  },
  {
   "cell_type": "code",
   "execution_count": 26,
   "id": "6e44c902",
   "metadata": {},
   "outputs": [
    {
     "name": "stdout",
     "output_type": "stream",
     "text": [
      "0\n",
      "1\n",
      "2\n",
      "3\n",
      "4\n",
      "5\n",
      "6\n",
      "7\n",
      "8\n",
      "9\n"
     ]
    }
   ],
   "source": [
    "\n",
    "for β in range(10):\n",
    "    print(β)\n",
    "    "
   ]
  },
  {
   "cell_type": "code",
   "execution_count": 28,
   "id": "0dfd732d",
   "metadata": {},
   "outputs": [
    {
     "name": "stdout",
     "output_type": "stream",
     "text": [
      "r\n"
     ]
    }
   ],
   "source": [
    "\n",
    "print('r')\n"
   ]
  },
  {
   "cell_type": "code",
   "execution_count": 29,
   "id": "69db6a72",
   "metadata": {},
   "outputs": [
    {
     "data": {
      "text/plain": [
       "100"
      ]
     },
     "execution_count": 29,
     "metadata": {},
     "output_type": "execute_result"
    }
   ],
   "source": [
    "\n",
    "𝑟 = 100 # my current reward \n",
    "\n",
    "𝑟\n"
   ]
  },
  {
   "cell_type": "code",
   "execution_count": 30,
   "id": "1f9ecfab",
   "metadata": {},
   "outputs": [
    {
     "data": {
      "text/plain": [
       "100"
      ]
     },
     "execution_count": 30,
     "metadata": {},
     "output_type": "execute_result"
    }
   ],
   "source": [
    "\n",
    "𝘝 = 100 # value function \n",
    "\n",
    "𝘝\n"
   ]
  },
  {
   "cell_type": "code",
   "execution_count": 31,
   "id": "b3036072",
   "metadata": {},
   "outputs": [
    {
     "data": {
      "text/plain": [
       "100"
      ]
     },
     "execution_count": 31,
     "metadata": {},
     "output_type": "execute_result"
    }
   ],
   "source": [
    "\n",
    "Ⅴ = 100\n",
    "\n",
    "Ⅴ\n"
   ]
  },
  {
   "cell_type": "code",
   "execution_count": 34,
   "id": "922a427e",
   "metadata": {},
   "outputs": [
    {
     "data": {
      "text/plain": [
       "100"
      ]
     },
     "execution_count": 34,
     "metadata": {},
     "output_type": "execute_result"
    }
   ],
   "source": [
    "\n",
    "Q_𝜃_1 = 100\n",
    "\n",
    "Q_𝜃_2 = 200 \n",
    "\n",
    "min(Q_𝜃_1, Q_𝜃_2)\n",
    "\n",
    "# holy moly it works \n"
   ]
  },
  {
   "cell_type": "code",
   "execution_count": 36,
   "id": "a131081e",
   "metadata": {},
   "outputs": [
    {
     "data": {
      "text/plain": [
       "100"
      ]
     },
     "execution_count": 36,
     "metadata": {},
     "output_type": "execute_result"
    }
   ],
   "source": [
    "\n",
    "# non-italicized \n",
    "\n",
    "Q_θ_1 = 100\n",
    "\n",
    "Q_θ_2 = 200 \n",
    "\n",
    "min(Q_θ_1, Q_θ_2)\n",
    "\n",
    "# holy moly it works \n"
   ]
  },
  {
   "cell_type": "code",
   "execution_count": 37,
   "id": "725672af",
   "metadata": {},
   "outputs": [
    {
     "data": {
      "text/plain": [
       "100"
      ]
     },
     "execution_count": 37,
     "metadata": {},
     "output_type": "execute_result"
    }
   ],
   "source": [
    "\n",
    "𝘝 = 100\n",
    "𝘝\n"
   ]
  },
  {
   "cell_type": "code",
   "execution_count": 38,
   "id": "ce40fa2a",
   "metadata": {},
   "outputs": [
    {
     "data": {
      "text/plain": [
       "100"
      ]
     },
     "execution_count": 38,
     "metadata": {},
     "output_type": "execute_result"
    }
   ],
   "source": [
    "\n",
    "𝑦 = 100\n",
    "𝑦\n"
   ]
  },
  {
   "cell_type": "code",
   "execution_count": 39,
   "id": "1219050c",
   "metadata": {},
   "outputs": [
    {
     "data": {
      "text/plain": [
       "2"
      ]
     },
     "execution_count": 39,
     "metadata": {},
     "output_type": "execute_result"
    }
   ],
   "source": [
    "\n",
    "𝑟 = 2\n",
    "𝑟\n"
   ]
  },
  {
   "cell_type": "code",
   "execution_count": 40,
   "id": "4197d0cc",
   "metadata": {},
   "outputs": [
    {
     "data": {
      "text/plain": [
       "100"
      ]
     },
     "execution_count": 40,
     "metadata": {},
     "output_type": "execute_result"
    }
   ],
   "source": [
    "\n",
    "𝜃 = 100\n",
    "\n",
    "𝜃_2 = 200\n",
    "\n",
    "𝜃 \n"
   ]
  },
  {
   "cell_type": "code",
   "execution_count": 42,
   "id": "0b86f70c",
   "metadata": {},
   "outputs": [
    {
     "data": {
      "text/plain": [
       "100"
      ]
     },
     "execution_count": 42,
     "metadata": {},
     "output_type": "execute_result"
    }
   ],
   "source": [
    "\n",
    "Â = 100\n",
    "\n",
    "Â\n"
   ]
  },
  {
   "cell_type": "code",
   "execution_count": 43,
   "id": "2d30978f",
   "metadata": {},
   "outputs": [
    {
     "data": {
      "text/plain": [
       "100"
      ]
     },
     "execution_count": 43,
     "metadata": {},
     "output_type": "execute_result"
    }
   ],
   "source": [
    "𝑉 = 100\n",
    "𝑉"
   ]
  },
  {
   "cell_type": "code",
   "execution_count": null,
   "id": "9a9b5a45",
   "metadata": {},
   "outputs": [],
   "source": [
    "\n",
    "𝑉 = 100\n",
    "𝑉\n"
   ]
  },
  {
   "cell_type": "code",
   "execution_count": 44,
   "id": "d2a3488f",
   "metadata": {},
   "outputs": [
    {
     "data": {
      "text/plain": [
       "[1, 2, 3, 4, 5]"
      ]
     },
     "execution_count": 44,
     "metadata": {},
     "output_type": "execute_result"
    }
   ],
   "source": [
    "\n",
    "𝑆 = [1,2,3,4,5]\n",
    "𝑆\n"
   ]
  },
  {
   "cell_type": "code",
   "execution_count": 47,
   "id": "18c14038",
   "metadata": {},
   "outputs": [
    {
     "data": {
      "text/plain": [
       "100"
      ]
     },
     "execution_count": 47,
     "metadata": {},
     "output_type": "execute_result"
    }
   ],
   "source": [
    "\n",
    "Q = 100\n",
    "\n",
    "Q_Θ_1 = 100\n",
    "\n",
    "Q_Θ_1\n"
   ]
  },
  {
   "cell_type": "code",
   "execution_count": 49,
   "id": "2a1de59d",
   "metadata": {},
   "outputs": [
    {
     "data": {
      "text/plain": [
       "500"
      ]
     },
     "execution_count": 49,
     "metadata": {},
     "output_type": "execute_result"
    }
   ],
   "source": [
    "\n",
    "𝑉_π = 500\n",
    "\n",
    "𝑉_π\n"
   ]
  },
  {
   "cell_type": "code",
   "execution_count": 57,
   "id": "3b4696a1",
   "metadata": {},
   "outputs": [],
   "source": [
    "\n",
    "# 𝑉_* = 100 \n",
    "\n",
    "# '𝑉*' = 200 \n"
   ]
  },
  {
   "cell_type": "code",
   "execution_count": 58,
   "id": "058ddd93",
   "metadata": {},
   "outputs": [
    {
     "data": {
      "text/plain": [
       "100"
      ]
     },
     "execution_count": 58,
     "metadata": {},
     "output_type": "execute_result"
    }
   ],
   "source": [
    "\n",
    "max_over_π = 100\n",
    "\n",
    "max_over_π \n"
   ]
  },
  {
   "cell_type": "code",
   "execution_count": null,
   "id": "33e58666",
   "metadata": {},
   "outputs": [],
   "source": [
    "\n",
    "𝑄_θ_1\n",
    "\n",
    "\\frac{1}{2}\n",
    "\n"
   ]
  }
 ],
 "metadata": {
  "kernelspec": {
   "display_name": "Python 3 (ipykernel)",
   "language": "python",
   "name": "python3"
  },
  "language_info": {
   "codemirror_mode": {
    "name": "ipython",
    "version": 3
   },
   "file_extension": ".py",
   "mimetype": "text/x-python",
   "name": "python",
   "nbconvert_exporter": "python",
   "pygments_lexer": "ipython3",
   "version": "3.8.12"
  },
  "toc": {
   "base_numbering": 1,
   "nav_menu": {},
   "number_sections": true,
   "sideBar": true,
   "skip_h1_title": false,
   "title_cell": "Table of Contents",
   "title_sidebar": "Contents",
   "toc_cell": false,
   "toc_position": {},
   "toc_section_display": true,
   "toc_window_display": false
  }
 },
 "nbformat": 4,
 "nbformat_minor": 5
}
