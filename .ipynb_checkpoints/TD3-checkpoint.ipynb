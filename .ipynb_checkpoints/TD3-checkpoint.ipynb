{
 "cells": [
  {
   "cell_type": "code",
   "execution_count": 8,
   "id": "8bf27b0c",
   "metadata": {},
   "outputs": [],
   "source": [
    "\n",
    "ś = 100\n"
   ]
  },
  {
   "cell_type": "code",
   "execution_count": 9,
   "id": "83b06935",
   "metadata": {},
   "outputs": [
    {
     "data": {
      "text/plain": [
       "100"
      ]
     },
     "execution_count": 9,
     "metadata": {},
     "output_type": "execute_result"
    }
   ],
   "source": [
    "\n",
    "ś\n"
   ]
  },
  {
   "cell_type": "code",
   "execution_count": 10,
   "id": "ec92c217",
   "metadata": {},
   "outputs": [],
   "source": [
    "\n",
    "𝛾  = 0.99  # discount\n"
   ]
  },
  {
   "cell_type": "code",
   "execution_count": 11,
   "id": "86d2c037",
   "metadata": {},
   "outputs": [
    {
     "data": {
      "text/plain": [
       "0.99"
      ]
     },
     "execution_count": 11,
     "metadata": {},
     "output_type": "execute_result"
    }
   ],
   "source": [
    "\n",
    "𝛾\n"
   ]
  },
  {
   "cell_type": "code",
   "execution_count": 12,
   "id": "a16ba683",
   "metadata": {},
   "outputs": [
    {
     "data": {
      "text/plain": [
       "0.2"
      ]
     },
     "execution_count": 12,
     "metadata": {},
     "output_type": "execute_result"
    }
   ],
   "source": [
    "\n",
    "tau = .2\n",
    "\n",
    "τ = tau\n",
    "\n",
    "τ\n"
   ]
  },
  {
   "cell_type": "code",
   "execution_count": 13,
   "id": "f5a7735e",
   "metadata": {},
   "outputs": [],
   "source": [
    "\n",
    "𝞢 = 100\n"
   ]
  },
  {
   "cell_type": "code",
   "execution_count": 14,
   "id": "8e7721d5",
   "metadata": {},
   "outputs": [
    {
     "data": {
      "text/plain": [
       "100"
      ]
     },
     "execution_count": 14,
     "metadata": {},
     "output_type": "execute_result"
    }
   ],
   "source": [
    "\n",
    "𝞢\n"
   ]
  },
  {
   "cell_type": "code",
   "execution_count": 15,
   "id": "4324a957",
   "metadata": {},
   "outputs": [],
   "source": [
    "\n",
    "Q_θ = 10\n"
   ]
  },
  {
   "cell_type": "code",
   "execution_count": 16,
   "id": "6b1f5e44",
   "metadata": {},
   "outputs": [
    {
     "data": {
      "text/plain": [
       "10"
      ]
     },
     "execution_count": 16,
     "metadata": {},
     "output_type": "execute_result"
    }
   ],
   "source": [
    "\n",
    "Q_θ\n"
   ]
  },
  {
   "cell_type": "code",
   "execution_count": 17,
   "id": "95a7bf4e",
   "metadata": {},
   "outputs": [
    {
     "data": {
      "text/plain": [
       "1"
      ]
     },
     "execution_count": 17,
     "metadata": {},
     "output_type": "execute_result"
    }
   ],
   "source": [
    "\n",
    "Q_θ_1 = 1\n",
    "\n",
    "Q_θ_1\n"
   ]
  },
  {
   "cell_type": "code",
   "execution_count": 20,
   "id": "b1e60d7b",
   "metadata": {},
   "outputs": [
    {
     "data": {
      "text/plain": [
       "100"
      ]
     },
     "execution_count": 20,
     "metadata": {},
     "output_type": "execute_result"
    }
   ],
   "source": [
    "\n",
    "Q_ϕ = 100\n",
    "\n",
    "Q_ϕ\n"
   ]
  },
  {
   "cell_type": "code",
   "execution_count": 22,
   "id": "ebf30e00",
   "metadata": {},
   "outputs": [
    {
     "name": "stdout",
     "output_type": "stream",
     "text": [
      "10\n"
     ]
    }
   ],
   "source": [
    "\n",
    "α_2001 = 10 \n",
    "\n",
    "print(α_2001)\n"
   ]
  },
  {
   "cell_type": "code",
   "execution_count": 25,
   "id": "b57633cc",
   "metadata": {},
   "outputs": [
    {
     "name": "stdout",
     "output_type": "stream",
     "text": [
      "0\n",
      "1\n",
      "2\n",
      "3\n",
      "4\n",
      "5\n",
      "6\n",
      "7\n",
      "8\n",
      "9\n"
     ]
    }
   ],
   "source": [
    "\n",
    "for α in range(10):\n",
    "    print(α)\n"
   ]
  },
  {
   "cell_type": "code",
   "execution_count": 26,
   "id": "71c386e6",
   "metadata": {},
   "outputs": [
    {
     "name": "stdout",
     "output_type": "stream",
     "text": [
      "0\n",
      "1\n",
      "2\n",
      "3\n",
      "4\n",
      "5\n",
      "6\n",
      "7\n",
      "8\n",
      "9\n"
     ]
    }
   ],
   "source": [
    "\n",
    "for β in range(10):\n",
    "    print(β)\n",
    "    "
   ]
  },
  {
   "cell_type": "code",
   "execution_count": 28,
   "id": "42195ce4",
   "metadata": {},
   "outputs": [
    {
     "name": "stdout",
     "output_type": "stream",
     "text": [
      "r\n"
     ]
    }
   ],
   "source": [
    "\n",
    "print('r')\n"
   ]
  },
  {
   "cell_type": "code",
   "execution_count": 29,
   "id": "501e9e29",
   "metadata": {},
   "outputs": [
    {
     "data": {
      "text/plain": [
       "100"
      ]
     },
     "execution_count": 29,
     "metadata": {},
     "output_type": "execute_result"
    }
   ],
   "source": [
    "\n",
    "𝑟 = 100 # my current reward \n",
    "\n",
    "𝑟\n"
   ]
  },
  {
   "cell_type": "code",
   "execution_count": 30,
   "id": "9027bae9",
   "metadata": {},
   "outputs": [
    {
     "data": {
      "text/plain": [
       "100"
      ]
     },
     "execution_count": 30,
     "metadata": {},
     "output_type": "execute_result"
    }
   ],
   "source": [
    "\n",
    "𝘝 = 100 # value function \n",
    "\n",
    "𝘝\n"
   ]
  },
  {
   "cell_type": "code",
   "execution_count": 31,
   "id": "fddd97f5",
   "metadata": {},
   "outputs": [
    {
     "data": {
      "text/plain": [
       "100"
      ]
     },
     "execution_count": 31,
     "metadata": {},
     "output_type": "execute_result"
    }
   ],
   "source": [
    "\n",
    "Ⅴ = 100\n",
    "\n",
    "Ⅴ\n"
   ]
  },
  {
   "cell_type": "code",
   "execution_count": 33,
   "id": "ee3932c3",
   "metadata": {},
   "outputs": [
    {
     "data": {
      "text/plain": [
       "100"
      ]
     },
     "execution_count": 33,
     "metadata": {},
     "output_type": "execute_result"
    }
   ],
   "source": [
    "\n",
    "Q_θ_1 = 100\n",
    "\n",
    "Q_θ_2 = 200 \n",
    "\n",
    "min(Q_θ_1, Q_θ_2)\n",
    "\n",
    "# holy moly it works \n"
   ]
  },
  {
   "cell_type": "code",
   "execution_count": null,
   "id": "368fa907",
   "metadata": {},
   "outputs": [],
   "source": []
  }
 ],
 "metadata": {
  "kernelspec": {
   "display_name": "Python 3 (ipykernel)",
   "language": "python",
   "name": "python3"
  },
  "language_info": {
   "codemirror_mode": {
    "name": "ipython",
    "version": 3
   },
   "file_extension": ".py",
   "mimetype": "text/x-python",
   "name": "python",
   "nbconvert_exporter": "python",
   "pygments_lexer": "ipython3",
   "version": "3.8.12"
  },
  "toc": {
   "base_numbering": 1,
   "nav_menu": {},
   "number_sections": true,
   "sideBar": true,
   "skip_h1_title": false,
   "title_cell": "Table of Contents",
   "title_sidebar": "Contents",
   "toc_cell": false,
   "toc_position": {},
   "toc_section_display": true,
   "toc_window_display": false
  }
 },
 "nbformat": 4,
 "nbformat_minor": 5
}
